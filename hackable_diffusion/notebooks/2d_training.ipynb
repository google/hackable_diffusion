{
  "cells": [
    {
      "cell_type": "markdown",
      "metadata": {
        "id": "Mn-ugPgFOuiE"
      },
      "source": [
        "# Training in 2D 🚀\n",
        "\n",
        "In this colab we showcase how to train a diffusion model on a two dimensional\n",
        "dataset, here a simple mixture of Gaussians. This colab can run on any colab\n",
        "backend."
      ]
    },
    {
      "cell_type": "code",
      "execution_count": null,
      "metadata": {
        "id": "1-14Q6OHyBDL"
      },
      "outputs": [],
      "source": [
        "################################################################################\n",
        "# Common modules\n",
        "################################################################################\n",
        "\n",
        "import functools\n",
        "from etils import ecolab\n",
        "import flax.linen as nn\n",
        "import jax\n",
        "import jax.numpy as jnp\n",
        "import matplotlib.pyplot as plt\n",
        "import optax\n",
        "################################################################################\n",
        "# Datasets\n",
        "################################################################################\n",
        "\n",
        "from sklearn.datasets import make_swiss_roll\n",
        "import tqdm\n",
        "\n",
        "################################################################################\n",
        "# Hackable diffusion modules\n",
        "################################################################################\n",
        "\n",
        "cell_autoreload = True  # @param{type: \"boolean\"}\n",
        "\n",
        "with ecolab.adhoc(\n",
        "    reload=[\"hackable_diffusion\"],\n",
        "    invalidate=False,\n",
        "    cell_autoreload=cell_autoreload,\n",
        "):\n",
        "  from hackable_diffusion import hd"
      ]
    },
    {
      "cell_type": "code",
      "source": [
        "diffusion_network = hd.diffusion_network\n",
        "time_sampling = hd.time_sampling\n",
        "gaussian = hd.corruption.gaussian\n",
        "schedules = hd.corruption.schedules\n",
        "arch_typing = hd.architecture.arch_typing\n",
        "conditioning_encoder = hd.architecture.conditioning_encoder\n",
        "mlp = hd.architecture.mlp\n",
        "wrappers = hd.inference.wrappers\n",
        "diffusion_inference = hd.inference.diffusion_inference\n",
        "gaussian_loss = hd.loss.gaussian\n",
        "time_scheduling = hd.sampling.time_scheduling\n",
        "sampling = hd.sampling.sampling\n",
        "gaussian_step_sampler = hd.sampling.gaussian_step_sampler"
      ],
      "metadata": {
        "id": "lUoAnZhK_BEm"
      },
      "execution_count": null,
      "outputs": []
    },
    {
      "cell_type": "markdown",
      "source": [
        "# Define data distribution"
      ],
      "metadata": {
        "id": "YBC1EgEuITJp"
      }
    },
    {
      "cell_type": "code",
      "source": [
        "data, _ = make_swiss_roll(n_samples=10_000, noise=0.5)\n",
        "# Make two-dimensional to easen visualization\n",
        "data = data[:, [0, 2]]\n",
        "\n",
        "data = (data - data.mean()) / data.std()\n",
        "\n",
        "small_data_subset = data[:2048]\n",
        "\n",
        "plt.scatter(data[:, 0], data[:, 1])"
      ],
      "metadata": {
        "id": "rCDabKrSIT7s"
      },
      "execution_count": null,
      "outputs": []
    },
    {
      "cell_type": "markdown",
      "source": [
        "# Define all diffusion model modules"
      ],
      "metadata": {
        "id": "OWP4NiIfMBde"
      }
    },
    {
      "cell_type": "markdown",
      "source": [
        "## Noise process"
      ],
      "metadata": {
        "id": "xN5dcCQhLRSL"
      }
    },
    {
      "cell_type": "code",
      "source": [
        "schedule = schedules.RFSchedule()\n",
        "process = gaussian.GaussianProcess(schedule=schedule)"
      ],
      "metadata": {
        "id": "doItCfTdLQvt"
      },
      "execution_count": null,
      "outputs": []
    },
    {
      "cell_type": "markdown",
      "source": [
        "Visualize noise process"
      ],
      "metadata": {
        "id": "SDjo5LRSLskH"
      }
    },
    {
      "cell_type": "code",
      "source": [
        "num_noises = 7\n",
        "fig, axes = plt.subplots(\n",
        "    ncols=num_noises, figsize=(num_noises * 4, 4), sharex=True, sharey=True\n",
        ")\n",
        "\n",
        "corrupt_rng = jax.random.PRNGKey(10)\n",
        "idx = 0\n",
        "for time in jnp.linspace(1e-3, 1.0 - 1e-3, num=num_noises):\n",
        "  xt, _ = process.corrupt(\n",
        "      key=corrupt_rng,\n",
        "      x0=jnp.array(small_data_subset),\n",
        "      time=jnp.ones((1,)) * time,\n",
        "  )\n",
        "  ax = axes[idx]\n",
        "  ax.scatter(xt[:, 0], xt[:, 1])\n",
        "  ax.set_title(f'Time = {time}')\n",
        "  idx += 1"
      ],
      "metadata": {
        "id": "12mocRWzLuAi"
      },
      "execution_count": null,
      "outputs": []
    },
    {
      "cell_type": "markdown",
      "source": [
        "## Define diffusion network -- backbone \u0026 conditioning"
      ],
      "metadata": {
        "id": "8fiOvaxNMOh-"
      }
    },
    {
      "cell_type": "code",
      "source": [
        "module = mlp.ConditionalMLP(\n",
        "    hidden_sizes_preprocess=[32, 16],\n",
        "    hidden_sizes_postprocess=[32, 16],\n",
        "    activation='gelu',\n",
        "    zero_init_output=False,\n",
        "    dtype=jnp.float32,\n",
        "    dropout_rate=0.0,\n",
        "    conditioning_mechanism=arch_typing.ConditioningMechanism.CONCATENATE,\n",
        ")\n",
        "\n",
        "conditioning_embedders = {}\n",
        "\n",
        "encoder = conditioning_encoder.ConditioningEncoder(\n",
        "    time_embedder=conditioning_encoder.SinusoidalTimeEmbedder(\n",
        "        activation='gelu', embedding_dim=128, num_features=128\n",
        "    ),\n",
        "    conditioning_embedders=conditioning_embedders,\n",
        "    embedding_merging_method='concat',\n",
        "    conditioning_rules={\n",
        "        'time': arch_typing.ConditioningMechanism.CONCATENATE,\n",
        "    },\n",
        ")\n",
        "\n",
        "\n",
        "network = diffusion_network.DiffusionNetwork(\n",
        "    backbone_network=module,\n",
        "    conditioning_encoder=encoder,\n",
        "    prediction_type='velocity',\n",
        ")"
      ],
      "metadata": {
        "id": "zRR2Zr3uMRe4"
      },
      "execution_count": null,
      "outputs": []
    },
    {
      "cell_type": "code",
      "source": [
        "summary_depth = 2  # @param {type: \"integer\"}\n",
        "\n",
        "tabulate_fn = nn.tabulate(\n",
        "    network,\n",
        "    jax.random.PRNGKey(42),\n",
        "    depth=summary_depth,\n",
        "    console_kwargs={\"force_jupyter\": True, \"soft_wrap\": True},\n",
        ")\n",
        "\n",
        "dummy_time = jnp.ones((1,))\n",
        "dummy_xt = jnp.ones((1, 2))\n",
        "dummy_conditioning = None\n",
        "\n",
        "print(\n",
        "    tabulate_fn(\n",
        "        dummy_time,\n",
        "        dummy_xt,\n",
        "        dummy_conditioning,\n",
        "        is_training=False,\n",
        "    )\n",
        ")"
      ],
      "metadata": {
        "id": "LvX6WLQGN1cm"
      },
      "execution_count": null,
      "outputs": []
    },
    {
      "cell_type": "markdown",
      "source": [
        "## Define time sampler, optimizer and loss function"
      ],
      "metadata": {
        "id": "emGbkd8vMWyk"
      }
    },
    {
      "cell_type": "code",
      "source": [
        "time_sampler = time_sampling.UniformTimeSampler(safety_epsilon=1e-3)\n",
        "\n",
        "optimizer = optax.chain(\n",
        "    optax.clip_by_global_norm(max_norm=1.0),\n",
        "    optax.scale_by_adam(b1=0.9, b2=0.999, eps=1e-8),\n",
        "    optax.scale_by_schedule(optax.constant_schedule(value=1e-3)),\n",
        "    optax.scale(-1.0),\n",
        ")\n",
        "\n",
        "loss_fn = gaussian_loss.NoWeightLoss()"
      ],
      "metadata": {
        "id": "1Y-S0iHuIa9b"
      },
      "execution_count": null,
      "outputs": []
    },
    {
      "cell_type": "markdown",
      "source": [
        "## Define the parameters loss function and gradient function"
      ],
      "metadata": {
        "id": "qYyGqTogMdp4"
      }
    },
    {
      "cell_type": "code",
      "source": [
        "@jax.jit\n",
        "def params_loss_fn(params, x0, rng):\n",
        "  time_rng, corrupt_rng = jax.random.split(rng, 2)\n",
        "  time = time_sampler(key=time_rng, data_spec=x0)\n",
        "  xt, targets = process.corrupt(key=corrupt_rng, x0=x0, time=time)\n",
        "  output = network.apply(\n",
        "      {'params': params},\n",
        "      time=time,\n",
        "      xt=xt,\n",
        "      conditioning=None,\n",
        "      is_training=True,\n",
        "  )\n",
        "  out = jnp.mean(loss_fn(preds=output, targets=targets, time=time))\n",
        "  return out, {'loss': out}\n",
        "\n",
        "\n",
        "grad_fn = jax.jit(jax.grad(params_loss_fn, has_aux=True))"
      ],
      "metadata": {
        "id": "DWeT6sQrO2cB"
      },
      "execution_count": null,
      "outputs": []
    },
    {
      "cell_type": "markdown",
      "source": [
        "Wrapping the whole update into `update_fn` since it makes the updates much faster"
      ],
      "metadata": {
        "id": "QZeLtgeGR8uI"
      }
    },
    {
      "cell_type": "code",
      "source": [
        "@jax.jit\n",
        "def update_fn(params, opt_state, x0, rng):\n",
        "  grads, metrics = grad_fn(params, x0, rng)\n",
        "  updates, opt_state = optimizer.update(grads, opt_state)\n",
        "  params = optax.apply_updates(params, updates)\n",
        "  return params, opt_state, metrics"
      ],
      "metadata": {
        "id": "_uXRZ2hSRjEX"
      },
      "execution_count": null,
      "outputs": []
    },
    {
      "cell_type": "markdown",
      "source": [
        "## Train the model"
      ],
      "metadata": {
        "id": "NxJskK06Mbjq"
      }
    },
    {
      "cell_type": "code",
      "source": [
        "nepochs = 100\n",
        "batch_size = 256"
      ],
      "metadata": {
        "id": "iYywsab5Wu52"
      },
      "execution_count": null,
      "outputs": []
    },
    {
      "cell_type": "code",
      "source": [
        "rng = jax.random.PRNGKey(0)\n",
        "\n",
        "params = network.initialize_variables(\n",
        "    input_shape=(1, 2),\n",
        "    conditioning_shape=None,\n",
        "    key=rng,\n",
        "    is_training=True,\n",
        ")['params']\n",
        "\n",
        "opt_state = optimizer.init(params)\n",
        "\n",
        "losses = []\n",
        "for epoch in tqdm.tqdm(range(1, nepochs)):\n",
        "  epoch_loss = steps = 0\n",
        "  for i in range(0, len(data), batch_size):\n",
        "    batch = data[i : i + batch_size]\n",
        "    # Make the parameters update\n",
        "    rng, _ = jax.random.split(rng)\n",
        "    params, opt_state, metrics = update_fn(params, opt_state, batch, rng)\n",
        "    epoch_loss += metrics['loss']\n",
        "    steps += 1\n",
        "    rng, _ = jax.random.split(rng)\n",
        "  print(f'Epoch = {epoch}, Cumulative epoch loss = {epoch_loss}')\n",
        "  losses.append(epoch_loss)"
      ],
      "metadata": {
        "id": "gRQtXQ_bMf3f"
      },
      "execution_count": null,
      "outputs": []
    },
    {
      "cell_type": "code",
      "source": [
        "plt.plot(losses)"
      ],
      "metadata": {
        "id": "s5xYzU0IPzz1"
      },
      "execution_count": null,
      "outputs": []
    },
    {
      "cell_type": "markdown",
      "source": [
        "# Sampling"
      ],
      "metadata": {
        "id": "BcVHlXAhPuY5"
      }
    },
    {
      "cell_type": "code",
      "execution_count": null,
      "metadata": {
        "id": "E_w_9y8OW8nz"
      },
      "outputs": [],
      "source": [
        "shape = (2,)\n",
        "base_inference_fn = wrappers.FlaxLinenInferenceFn(\n",
        "    network=network,\n",
        "    params=params,\n",
        ")\n",
        "inference_fn = diffusion_inference.GuidedDiffusionInferenceFn(\n",
        "    base_inference_fn=base_inference_fn\n",
        ")\n",
        "time_schedule = time_scheduling.UniformTimeSchedule()\n",
        "stepper = gaussian_step_sampler.DDIMStep(\n",
        "    corruption_process=process, stoch_coeff=1.0\n",
        ")\n",
        "\n",
        "sampler = sampling.DiffusionSampler(\n",
        "    time_schedule=time_schedule, stepper=stepper, num_steps=100\n",
        ")\n",
        "sampler = functools.partial(sampler, inference_fn=inference_fn)\n",
        "sampler = jax.jit(jax.experimental.checkify.checkify(sampler))\n",
        "\n",
        "key = jax.random.PRNGKey(0)\n",
        "eval_batch_size = 2048\n",
        "initial_noise = jax.random.normal(key=key, shape=(eval_batch_size, *shape))\n",
        "eval_cond = jnp.zeros(shape=(eval_batch_size,))\n",
        "conditioning = {\"mean\": eval_cond}\n",
        "\n",
        "err, (out, all_steps) = sampler(\n",
        "    rng=key, initial_noise=initial_noise, conditioning=conditioning\n",
        ")"
      ]
    },
    {
      "cell_type": "code",
      "execution_count": null,
      "metadata": {
        "id": "VOscKR7KW8n0"
      },
      "outputs": [],
      "source": [
        "plt.plot(out.xt[:, 0], out.xt[:, 1], '*')\n",
        "plt.plot(data[:, 0], data[:, 1], '*')\n",
        "plt.legend(['generated', 'original'])"
      ]
    },
    {
      "cell_type": "code",
      "source": [],
      "metadata": {
        "id": "QkxY0SoZ_I92"
      },
      "execution_count": null,
      "outputs": []
    }
  ],
  "metadata": {
    "colab": {
      "private_outputs": true,
      "provenance": [],
      "last_runtime": {
        "build_target": "//learning/deepmind/dm_python:dm_notebook3",
        "kind": "private"
      }
    },
    "language_info": {
      "name": "python"
    },
    "kernelspec": {
      "name": "python3",
      "display_name": "Python 3"
    }
  },
  "nbformat": 4,
  "nbformat_minor": 0
}
